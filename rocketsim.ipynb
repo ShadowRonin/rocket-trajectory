{
 "cells": [
  {
   "cell_type": "code",
   "execution_count": 1,
   "metadata": {},
   "outputs": [],
   "source": [
    "#install pint if needed\n",
    "try:\n",
    "    from pint import UnitRegistry\n",
    "except ImportError:\n",
    "    %pip install pint\n",
    "    \n",
    "# import units\n",
    "from pint import UnitRegistry\n",
    "units = UnitRegistry()"
   ]
  },
  {
   "cell_type": "code",
   "execution_count": 2,
   "metadata": {},
   "outputs": [],
   "source": [
    "# download modsim.py if necessary\n",
    "\n",
    "from os.path import basename, exists\n",
    "\n",
    "def download(url):\n",
    "    filename = basename(url)\n",
    "    if not exists(filename):\n",
    "        from urllib.request import urlretrieve\n",
    "        local, _ = urlretrieve(url, filename)\n",
    "        print('Downloaded ' + local)\n",
    "    \n",
    "download('https://github.com/AllenDowney/ModSimPy/raw/master/' +\n",
    "         'modsim.py')"
   ]
  },
  {
   "cell_type": "code",
   "execution_count": 3,
   "metadata": {},
   "outputs": [],
   "source": [
    "# import functions from modsim\n",
    "\n",
    "from modsim import *\n",
    "\n",
    "import matplotlib.pyplot as plt\n",
    "import numpy as np\n",
    "from scipy.integrate import solve_ivp\n",
    "import pandas as pd"
   ]
  },
  {
   "cell_type": "markdown",
   "metadata": {},
   "source": [
    "For this example we will be using a AJ-60A booster from the Atlas V.\n",
    "\n",
    "Assumptions:\n",
    "- drag coefficient is the same as a baseball\n",
    "- earth is a perfect circle 12,756 km in diameter (~equatorial diameter)\n",
    "- thrust is constant\n",
    "\n",
    "TODO:\n",
    "- improve gnc to get to orbit\n",
    "    - multiple burns??\n",
    "    - figure out what the burn should be to get to orbit\n",
    "    - fudge burn time to get there\n",
    "- multiple stages\n",
    "    - unify trust/burn time/mass into a class\n",
    "    - control with gnc\n",
    "- improve trust equations, [see specific impulse by nasa](https://www.grc.nasa.gov/www/k-12/airplane/specimp.html)\n",
    "- throttle trust\n",
    "\n",
    "\n",
    "Pitch over happens at 244m, for this simulation we'll say the angle change instantaneously from 90 degrees (vertical) to 45 degrees. In the future a more complicated approach will be used. [This article](https://globaljournals.org/GJSFR_Volume12/6-Computational-Algorithm-for-Gravity.pdf) explains more of the math behind pitch over."
   ]
  },
  {
   "cell_type": "code",
   "execution_count": 4,
   "metadata": {},
   "outputs": [],
   "source": [
    "# from gravity import calc_gravity\n",
    "# print(calc_gravity(Vector(0,0), params))\n",
    "# print(calc_gravity(Vector(100000, 0), params))"
   ]
  },
  {
   "cell_type": "markdown",
   "metadata": {},
   "source": [
    "The drag force is dependant on the density of the air. Which depends on the altitude, temperature, and pressure. To simplify this we will be use values from [this table](https://www.engineeringtoolbox.com/standard-atmosphere-d_604.html). In the future we might enhance this, perhaps evening pulling real temp and pressure data from somewhere online. [This](https://www.grc.nasa.gov/www/k-12/airplane/atmosmet.html) NASA article explains the math some more."
   ]
  },
  {
   "cell_type": "code",
   "execution_count": 5,
   "metadata": {},
   "outputs": [],
   "source": [
    "# from drag import drag_force\n",
    "# print(drag_force(Vector(10, 10), 0, system))"
   ]
  },
  {
   "cell_type": "code",
   "execution_count": 1,
   "metadata": {},
   "outputs": [
    {
     "name": "stdout",
     "output_type": "stream",
     "text": [
      "GEM 63 - 1  burn start:  0\n",
      "GEM 63 - 2  burn start:  0\n",
      "GEM 63 - 3  burn start:  0\n",
      "GEM 63 - 4  burn start:  0\n",
      "GEM 63 - 5  burn start:  0\n",
      "Atlas CCB  burn start:  0\n",
      "GEM 63 - 1  burn stop:  104.28452503699852\n",
      "GEM 63 - 2  burn stop:  104.28452503699852\n",
      "GEM 63 - 3  burn stop:  104.28452503699852\n",
      "GEM 63 - 4  burn stop:  104.28452503699852\n",
      "GEM 63 - 5  burn stop:  104.28452503699852\n",
      "Atlas CCB  burn stop:  256.33696249192195\n",
      "Centaur  burn start:  256.33696249192195\n",
      "Centaur  burn stop:  340.8699573925947\n",
      "A termination event occurred.\n"
     ]
    }
   ],
   "source": [
    "from simulation import run_sim\n",
    "\n",
    "results, telemetry_df = run_sim()"
   ]
  },
  {
   "cell_type": "code",
   "execution_count": 7,
   "metadata": {},
   "outputs": [
    {
     "data": {
      "text/plain": [
       "7.466403467869001e-06"
      ]
     },
     "execution_count": 7,
     "metadata": {},
     "output_type": "execute_result"
    }
   ],
   "source": [
    "flight_time = results.index[-1]\n",
    "flight_time"
   ]
  },
  {
   "cell_type": "code",
   "execution_count": 8,
   "metadata": {},
   "outputs": [
    {
     "name": "stdout",
     "output_type": "stream",
     "text": [
      "0.0\n",
      "6378000.0\n",
      "0.0\n",
      "6378000.0\n"
     ]
    },
    {
     "data": {
      "image/png": "[encoded data removed]",
      "text/plain": [
       "<Figure size 450x300 with 1 Axes>"
      ]
     },
     "metadata": {},
     "output_type": "display_data"
    }
   ],
   "source": [
    "results.x.plot(color='C4')\n",
    "results.y.plot(color='C2', style='--')\n",
    "\n",
    "print(results.x.max())\n",
    "print(results.y.max())\n",
    "print(results.x.min())\n",
    "print(results.y.min())\n",
    "\n",
    "decorate(xlabel='Time (s)',\n",
    "         ylabel='Position (m)')"
   ]
  },
  {
   "cell_type": "code",
   "execution_count": 9,
   "metadata": {},
   "outputs": [
    {
     "name": "stdout",
     "output_type": "stream",
     "text": [
      "0.0\n",
      "6378000.0\n",
      "0.0\n",
      "6377999.999999949\n"
     ]
    },
    {
     "data": {
      "image/png": "[encoded data removed]",
      "text/plain": [
       "<Figure size 450x300 with 1 Axes>"
      ]
     },
     "metadata": {},
     "output_type": "display_data"
    }
   ],
   "source": [
    "telemetry_df.x.plot(color='C4')\n",
    "telemetry_df.y.plot(color='C2', style='--')\n",
    "\n",
    "print(telemetry_df.x.max())\n",
    "print(telemetry_df.y.max())\n",
    "print(telemetry_df.x.min())\n",
    "print(telemetry_df.y.min())\n",
    "\n",
    "decorate(xlabel='Time (s)',\n",
    "         ylabel='Position (m)')"
   ]
  },
  {
   "cell_type": "code",
   "execution_count": 10,
   "metadata": {},
   "outputs": [
    {
     "data": {
      "image/png": "[encoded data removed]",
      "text/plain": [
       "<Figure size 450x300 with 1 Axes>"
      ]
     },
     "metadata": {},
     "output_type": "display_data"
    }
   ],
   "source": [
    "results.vx.plot(color='C4')\n",
    "results.vy.plot(color='C2', style='--')\n",
    "\n",
    "decorate(xlabel='Time (s)',\n",
    "         ylabel='Velocity (m/s)')"
   ]
  },
  {
   "cell_type": "code",
   "execution_count": 11,
   "metadata": {},
   "outputs": [
    {
     "ename": "NameError",
     "evalue": "name 'params' is not defined",
     "output_type": "error",
     "traceback": [
      "\u001b[1;31m---------------------------------------------------------------------------\u001b[0m",
      "\u001b[1;31mNameError\u001b[0m                                 Traceback (most recent call last)",
      "Cell \u001b[1;32mIn[11], line 16\u001b[0m\n\u001b[0;32m     11\u001b[0m     pp2\u001b[38;5;241m.\u001b[39mset_facecolor(\u001b[38;5;124m'\u001b[39m\u001b[38;5;124m#37a344\u001b[39m\u001b[38;5;124m'\u001b[39m)\n\u001b[0;32m     12\u001b[0m     ax\u001b[38;5;241m.\u001b[39madd_patch(pp2)\n\u001b[1;32m---> 16\u001b[0m \u001b[43mplot_trajectory\u001b[49m\u001b[43m(\u001b[49m\u001b[43mresults\u001b[49m\u001b[43m)\u001b[49m\n",
      "Cell \u001b[1;32mIn[11], line 10\u001b[0m, in \u001b[0;36mplot_trajectory\u001b[1;34m(results)\u001b[0m\n\u001b[0;32m      6\u001b[0m decorate(xlabel\u001b[38;5;241m=\u001b[39m\u001b[38;5;124m'\u001b[39m\u001b[38;5;124mx position (m)\u001b[39m\u001b[38;5;124m'\u001b[39m,\n\u001b[0;32m      7\u001b[0m          ylabel\u001b[38;5;241m=\u001b[39m\u001b[38;5;124m'\u001b[39m\u001b[38;5;124my position (m)\u001b[39m\u001b[38;5;124m'\u001b[39m)\n\u001b[0;32m      9\u001b[0m ax \u001b[38;5;241m=\u001b[39m plt\u001b[38;5;241m.\u001b[39mgca()\n\u001b[1;32m---> 10\u001b[0m pp2 \u001b[38;5;241m=\u001b[39m plt\u001b[38;5;241m.\u001b[39mCircle((\u001b[38;5;241m0\u001b[39m, \u001b[38;5;241m0\u001b[39m), \u001b[43mparams\u001b[49m\u001b[38;5;241m.\u001b[39mearth_diameter \u001b[38;5;241m/\u001b[39m \u001b[38;5;241m2\u001b[39m)\n\u001b[0;32m     11\u001b[0m pp2\u001b[38;5;241m.\u001b[39mset_facecolor(\u001b[38;5;124m'\u001b[39m\u001b[38;5;124m#37a344\u001b[39m\u001b[38;5;124m'\u001b[39m)\n\u001b[0;32m     12\u001b[0m ax\u001b[38;5;241m.\u001b[39madd_patch(pp2)\n",
      "\u001b[1;31mNameError\u001b[0m: name 'params' is not defined"
     ]
    },
    {
     "data": {
      "image/png": "[encoded data removed]",
      "text/plain": [
       "<Figure size 450x300 with 1 Axes>"
      ]
     },
     "metadata": {},
     "output_type": "display_data"
    }
   ],
   "source": [
    "def plot_trajectory(results):\n",
    "    x = results.x\n",
    "    y = results.y\n",
    "    make_series(x, y).plot(label='trajectory')\n",
    "\n",
    "    decorate(xlabel='x position (m)',\n",
    "             ylabel='y position (m)')\n",
    "    \n",
    "    ax = plt.gca()\n",
    "    pp2 = plt.Circle((0, 0), params.earth_diameter / 2)\n",
    "    pp2.set_facecolor('#37a344')\n",
    "    ax.add_patch(pp2)\n",
    "    \n",
    "    \n",
    "\n",
    "plot_trajectory(results)"
   ]
  },
  {
   "cell_type": "code",
   "execution_count": null,
   "metadata": {},
   "outputs": [],
   "source": [
    "telemetry_df.trust_f.plot(label='Trust')\n",
    "\n",
    "decorate(xlabel='Time (s)',\n",
    "            ylabel='Trust (N)')"
   ]
  },
  {
   "cell_type": "code",
   "execution_count": null,
   "metadata": {},
   "outputs": [],
   "source": [
    "telemetry_df.ax.plot(label='x')\n",
    "telemetry_df.ay.plot(label='y')\n",
    "\n",
    "decorate(xlabel='Time (s)',\n",
    "            ylabel='Acceleration (m/s^2)')"
   ]
  },
  {
   "cell_type": "code",
   "execution_count": null,
   "metadata": {},
   "outputs": [],
   "source": [
    "telemetry_df.atx.plot(label='x')\n",
    "telemetry_df.aty.plot(label='y')\n",
    "\n",
    "decorate(xlabel='Time (s)',\n",
    "            ylabel='Trust (m/s^2)')"
   ]
  },
  {
   "cell_type": "code",
   "execution_count": null,
   "metadata": {},
   "outputs": [],
   "source": [
    "telemetry_df.gx.plot(label='x')\n",
    "telemetry_df.gy.plot(label='y')\n",
    "\n",
    "decorate(xlabel='Time (s)',\n",
    "            ylabel='Gravity (m/s^2)')"
   ]
  },
  {
   "cell_type": "code",
   "execution_count": null,
   "metadata": {},
   "outputs": [],
   "source": [
    "telemetry_df.mass.plot(label='mass')\n",
    "\n",
    "decorate(xlabel='Time (s)',\n",
    "            ylabel='Mass (kg)')"
   ]
  },
  {
   "cell_type": "code",
   "execution_count": null,
   "metadata": {},
   "outputs": [],
   "source": [
    "from matplotlib.pyplot import plot\n",
    "\n",
    "xlim = results.x.min(), results.x.max()\n",
    "ylim = results.y.min(), results.y.max()\n",
    "\n",
    "def draw_func(t, state):\n",
    "    plot(state.x, state.y, 'bo')\n",
    "    decorate(xlabel='x position (m)',\n",
    "             ylabel='y position (m)',\n",
    "             xlim=xlim,\n",
    "             ylim=ylim)"
   ]
  },
  {
   "cell_type": "code",
   "execution_count": null,
   "metadata": {},
   "outputs": [],
   "source": [
    "animate(results, draw_func)"
   ]
  }
 ],
 "metadata": {
  "kernelspec": {
   "display_name": "Python 3",
   "language": "python",
   "name": "python3"
  },
  "language_info": {
   "codemirror_mode": {
    "name": "ipython",
    "version": 3
   },
   "file_extension": ".py",
   "mimetype": "text/x-python",
   "name": "python",
   "nbconvert_exporter": "python",
   "pygments_lexer": "ipython3",
   "version": "3.12.3"
  }
 },
 "nbformat": 4,
 "nbformat_minor": 2
}
