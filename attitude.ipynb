{
 "cells": [
  {
   "cell_type": "markdown",
   "metadata": {},
   "source": [
    "# Goal\n",
    "The goal here is to figure out how to calculate what the angle of the rocket should be relative to several coordinate systems. We shall set the angle relative to the direction of the center of the earth. Then convert it to a coordinate system that is centered on the rocket and parallel to the main coordinate system, which is centered on the center of the earth."
   ]
  },
  {
   "cell_type": "code",
   "execution_count": 11,
   "metadata": {},
   "outputs": [],
   "source": [
    "import matplotlib.pyplot as plt\n",
    "import numpy as np\n",
    "from modsim import *\n",
    "from gnc import get_gnc\n",
    "\n",
    "params = Params(\n",
    "    earth_diameter = 12756000\n",
    ")\n",
    "height = 30000 * 1000\n",
    "time = 500\n",
    "\n",
    "P = Vector(0 ,(0.5 * params.earth_diameter) + height)\n",
    "gnc = get_gnc(time, P, params)\n",
    "\n",
    "set_point = pol2cart(gnc.facing, vector_mag(P))\n",
    "SP = P + Vector(set_point[0], set_point[1])"
   ]
  },
  {
   "cell_type": "code",
   "execution_count": 12,
   "metadata": {},
   "outputs": [
    {
     "data": {
      "image/png": "[encoded data removed]",
      "text/plain": [
       "<Figure size 150x150 with 1 Axes>"
      ]
     },
     "metadata": {},
     "output_type": "display_data"
    }
   ],
   "source": [
    "\n",
    "\n",
    "\n",
    "\n",
    "plt.style.use('_mpl-gallery')\n",
    "\n",
    "axis_length = 0.5 * vector_mag(P)\n",
    "r_axis_x = np.arange(P.x, P.x+axis_length, 1)\n",
    "r_axis_y = np.arange(P.y, P.y+axis_length, 1)\n",
    "\n",
    "# plot\n",
    "fig, ax = plt.subplots()\n",
    "\n",
    "ax.plot(r_axis_x, np.repeat(P.y, len(r_axis_x)), linestyle='--', color='black')\n",
    "ax.plot(np.repeat(P.x, len(r_axis_y)), r_axis_y, linestyle='--', color='black')\n",
    "\n",
    "ax.plot([0, P.x], [0, P.y], color='blue')\n",
    "ax.plot([P.x, SP.x], [P.y, SP.y], color='pink')\n",
    "\n",
    "ax.plot(P.x, P.y, 'o', color='red')\n",
    "ax.plot(0, 0, 'o', color='green')\n",
    "\n",
    "# ax.set(xlim=(0, 8), xticks=np.arange(-20, 21, 10),\n",
    "#        ylim=(0, 8), yticks=np.arange(-20, 21, 10))\n",
    "\n",
    "plt.show()"
   ]
  }
 ],
 "metadata": {
  "kernelspec": {
   "display_name": "Python 3",
   "language": "python",
   "name": "python3"
  },
  "language_info": {
   "codemirror_mode": {
    "name": "ipython",
    "version": 3
   },
   "file_extension": ".py",
   "mimetype": "text/x-python",
   "name": "python",
   "nbconvert_exporter": "python",
   "pygments_lexer": "ipython3",
   "version": "3.12.3"
  }
 },
 "nbformat": 4,
 "nbformat_minor": 2
}
